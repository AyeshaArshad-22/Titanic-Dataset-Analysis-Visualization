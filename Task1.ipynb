{
 "cells": [
  {
   "cell_type": "code",
   "execution_count": 7,
   "id": "3f442f12-c748-4b0f-aafc-3c96324576fe",
   "metadata": {},
   "outputs": [],
   "source": [
    "import pandas as pd\n",
    "import numpy as np\n",
    "import seaborn as sns\n",
    "import matplotlib.pyplot as plt "
   ]
  },
  {
   "cell_type": "code",
   "execution_count": 39,
   "id": "58181efd-c16b-4f42-a44a-c7ca18477d5b",
   "metadata": {},
   "outputs": [],
   "source": [
    "df=pd.read_csv(\"titanic_dataset.csv\")\n",
    "#print(df)"
   ]
  },
  {
   "cell_type": "code",
   "execution_count": 41,
   "id": "51ab8f3d-68a1-47fa-a672-52a8c509e10d",
   "metadata": {},
   "outputs": [],
   "source": [
    "#print(df.to_string())"
   ]
  },
  {
   "cell_type": "code",
   "execution_count": 11,
   "id": "a6218b60-1269-4bda-bd89-28cbb398d428",
   "metadata": {},
   "outputs": [
    {
     "data": {
      "text/plain": [
       "PassengerId      0\n",
       "Pclass           0\n",
       "Name             0\n",
       "Sex              0\n",
       "Age             86\n",
       "SibSp            0\n",
       "Parch            0\n",
       "Ticket           0\n",
       "Fare             1\n",
       "Cabin          327\n",
       "Embarked         0\n",
       "dtype: int64"
      ]
     },
     "execution_count": 11,
     "metadata": {},
     "output_type": "execute_result"
    }
   ],
   "source": [
    "df.isnull().sum()"
   ]
  },
  {
   "cell_type": "code",
   "execution_count": 27,
   "id": "a06dfbe6-543e-456e-b85f-405430e29fe6",
   "metadata": {},
   "outputs": [
    {
     "data": {
      "text/plain": [
       "PassengerId    0\n",
       "Pclass         0\n",
       "Name           0\n",
       "Sex            0\n",
       "Age            0\n",
       "SibSp          0\n",
       "Parch          0\n",
       "Ticket         0\n",
       "Fare           0\n",
       "Cabin          0\n",
       "Embarked       0\n",
       "dtype: int64"
      ]
     },
     "execution_count": 27,
     "metadata": {},
     "output_type": "execute_result"
    }
   ],
   "source": [
    "df['Age']=df['Age'].fillna(df['Age'].median()) \n",
    "df['Fare']=df['Fare'].fillna(df['Age'].median())\n",
    "df['Cabin']=df['Cabin'].fillna(\"Unknown\")\n",
    "df.isnull().sum()"
   ]
  },
  {
   "cell_type": "code",
   "execution_count": 143,
   "id": "3ed77576-2111-4af9-b254-20f1c0eb1b4e",
   "metadata": {},
   "outputs": [],
   "source": [
    "#print(df.to_string())"
   ]
  },
  {
   "cell_type": "code",
   "execution_count": 37,
   "id": "1559c48a-ac5d-4661-87d7-c2562d642657",
   "metadata": {},
   "outputs": [
    {
     "data": {
      "text/plain": [
       "PassengerId    0\n",
       "Pclass         0\n",
       "Name           0\n",
       "Sex            0\n",
       "Age            0\n",
       "SibSp          0\n",
       "Parch          0\n",
       "Ticket         0\n",
       "Fare           0\n",
       "Cabin          0\n",
       "Embarked       0\n",
       "dtype: int64"
      ]
     },
     "execution_count": 37,
     "metadata": {},
     "output_type": "execute_result"
    }
   ],
   "source": [
    "df.isnull().sum()"
   ]
  },
  {
   "cell_type": "code",
   "execution_count": 65,
   "id": "7afcf430-0bb6-411b-a2fe-c3e68d01392c",
   "metadata": {},
   "outputs": [],
   "source": [
    "#because it has many missing values and we are only doing eda we can drop it to avoid fake pattern\n",
    "df.drop(columns=['Cabin'],inplace=True)"
   ]
  },
  {
   "cell_type": "code",
   "execution_count": 59,
   "id": "425a5771-4b9e-47cc-a379-2fb03fbdc734",
   "metadata": {},
   "outputs": [
    {
     "data": {
      "text/plain": [
       "Index(['PassengerId', 'Pclass', 'Name', 'Sex', 'Age', 'SibSp', 'Parch',\n",
       "       'Ticket', 'Fare', 'Embarked'],\n",
       "      dtype='object')"
      ]
     },
     "execution_count": 59,
     "metadata": {},
     "output_type": "execute_result"
    }
   ],
   "source": [
    "df.columns"
   ]
  },
  {
   "cell_type": "code",
   "execution_count": 67,
   "id": "f44ec741-ddcd-441e-88f3-e1a16b6674e9",
   "metadata": {},
   "outputs": [],
   "source": [
    "#converting types\n",
    "cols_to_convert=['Pclass','Sex','Embarked']\n",
    "df[cols_to_convert]=df[cols_to_convert].astype('category')"
   ]
  },
  {
   "cell_type": "code",
   "execution_count": 75,
   "id": "c21a0fd8-e261-4673-ba1a-d19e3f134294",
   "metadata": {},
   "outputs": [
    {
     "name": "stdout",
     "output_type": "stream",
     "text": [
      "<class 'pandas.core.frame.DataFrame'>\n",
      "RangeIndex: 418 entries, 0 to 417\n",
      "Data columns (total 10 columns):\n",
      " #   Column       Non-Null Count  Dtype   \n",
      "---  ------       --------------  -----   \n",
      " 0   PassengerId  418 non-null    int64   \n",
      " 1   Pclass       418 non-null    category\n",
      " 2   Name         418 non-null    object  \n",
      " 3   Sex          418 non-null    category\n",
      " 4   Age          332 non-null    float64 \n",
      " 5   SibSp        418 non-null    int64   \n",
      " 6   Parch        418 non-null    int64   \n",
      " 7   Ticket       418 non-null    object  \n",
      " 8   Fare         417 non-null    float64 \n",
      " 9   Embarked     418 non-null    category\n",
      "dtypes: category(3), float64(2), int64(3), object(2)\n",
      "memory usage: 24.6+ KB\n"
     ]
    }
   ],
   "source": [
    "df.info()"
   ]
  },
  {
   "cell_type": "code",
   "execution_count": 79,
   "id": "33c0c0da-ad55-406d-a510-802df8e44782",
   "metadata": {},
   "outputs": [
    {
     "name": "stdout",
     "output_type": "stream",
     "text": [
      "       PassengerId         Age       SibSp       Parch        Fare\n",
      "count   418.000000  332.000000  418.000000  418.000000  417.000000\n",
      "mean   1100.500000   30.272590    0.447368    0.392344   35.627188\n",
      "std     120.810458   14.181209    0.896760    0.981429   55.907576\n",
      "min     892.000000    0.170000    0.000000    0.000000    0.000000\n",
      "25%     996.250000   21.000000    0.000000    0.000000    7.895800\n",
      "50%    1100.500000   27.000000    0.000000    0.000000   14.454200\n",
      "75%    1204.750000   39.000000    1.000000    0.000000   31.500000\n",
      "max    1309.000000   76.000000    8.000000    9.000000  512.329200\n"
     ]
    }
   ],
   "source": [
    "#Summary statistics\n",
    "print(df.describe())"
   ]
  },
  {
   "cell_type": "code",
   "execution_count": 85,
   "id": "1f525230-1902-4717-bd47-abd06d1fa6cc",
   "metadata": {},
   "outputs": [
    {
     "name": "stdout",
     "output_type": "stream",
     "text": [
      "PassengerId    418\n",
      "Pclass           3\n",
      "Name           418\n",
      "Sex              2\n",
      "Age             79\n",
      "SibSp            7\n",
      "Parch            8\n",
      "Ticket         363\n",
      "Fare           169\n",
      "Embarked         3\n",
      "dtype: int64\n"
     ]
    }
   ],
   "source": [
    "print(df.nunique())"
   ]
  },
  {
   "cell_type": "code",
   "execution_count": 91,
   "id": "4b531455-7385-4ab8-8555-0038bb88497b",
   "metadata": {},
   "outputs": [
    {
     "name": "stdout",
     "output_type": "stream",
     "text": [
      "   PassengerId Pclass                                          Name     Sex  \\\n",
      "0          892      3                              Kelly, Mr. James    male   \n",
      "1          893      3              Wilkes, Mrs. James (Ellen Needs)  female   \n",
      "2          894      2                     Myles, Mr. Thomas Francis    male   \n",
      "3          895      3                              Wirz, Mr. Albert    male   \n",
      "4          896      3  Hirvonen, Mrs. Alexander (Helga E Lindqvist)  female   \n",
      "\n",
      "    Age  SibSp  Parch   Ticket     Fare Embarked  \n",
      "0  34.5      0      0   330911   7.8292        Q  \n",
      "1  47.0      1      0   363272   7.0000        S  \n",
      "2  62.0      0      0   240276   9.6875        Q  \n",
      "3  27.0      0      0   315154   8.6625        S  \n",
      "4  22.0      1      1  3101298  12.2875        S  \n"
     ]
    }
   ],
   "source": [
    "print(df.head())"
   ]
  },
  {
   "cell_type": "code",
   "execution_count": 95,
   "id": "af2712c5-5776-4323-a5a3-3ccfe9cb8cbd",
   "metadata": {},
   "outputs": [
    {
     "name": "stdout",
     "output_type": "stream",
     "text": [
      "     PassengerId Pclass                                             Name  \\\n",
      "408         1300      3                  Riordan, Miss. Johanna Hannah\"\"   \n",
      "409         1301      3                        Peacock, Miss. Treasteall   \n",
      "410         1302      3                           Naughton, Miss. Hannah   \n",
      "411         1303      1  Minahan, Mrs. William Edward (Lillian E Thorpe)   \n",
      "412         1304      3                   Henriksson, Miss. Jenny Lovisa   \n",
      "413         1305      3                               Spector, Mr. Woolf   \n",
      "414         1306      1                     Oliva y Ocana, Dona. Fermina   \n",
      "415         1307      3                     Saether, Mr. Simon Sivertsen   \n",
      "416         1308      3                              Ware, Mr. Frederick   \n",
      "417         1309      3                         Peter, Master. Michael J   \n",
      "\n",
      "        Sex   Age  SibSp  Parch              Ticket      Fare Embarked  \n",
      "408  female   NaN      0      0              334915    7.7208        Q  \n",
      "409  female   3.0      1      1  SOTON/O.Q. 3101315   13.7750        S  \n",
      "410  female   NaN      0      0              365237    7.7500        Q  \n",
      "411  female  37.0      1      0               19928   90.0000        Q  \n",
      "412  female  28.0      0      0              347086    7.7750        S  \n",
      "413    male   NaN      0      0           A.5. 3236    8.0500        S  \n",
      "414  female  39.0      0      0            PC 17758  108.9000        C  \n",
      "415    male  38.5      0      0  SOTON/O.Q. 3101262    7.2500        S  \n",
      "416    male   NaN      0      0              359309    8.0500        S  \n",
      "417    male   NaN      1      1                2668   22.3583        C  \n"
     ]
    }
   ],
   "source": [
    "print(df.tail(10))"
   ]
  },
  {
   "cell_type": "code",
   "execution_count": 99,
   "id": "7752fa9b-e263-47a7-a292-226f300c57d1",
   "metadata": {},
   "outputs": [
    {
     "name": "stdout",
     "output_type": "stream",
     "text": [
      "<class 'pandas.core.frame.DataFrame'>\n",
      "RangeIndex: 418 entries, 0 to 417\n",
      "Data columns (total 10 columns):\n",
      " #   Column       Non-Null Count  Dtype   \n",
      "---  ------       --------------  -----   \n",
      " 0   PassengerId  418 non-null    int64   \n",
      " 1   Pclass       418 non-null    category\n",
      " 2   Name         418 non-null    object  \n",
      " 3   Sex          418 non-null    category\n",
      " 4   Age          332 non-null    float64 \n",
      " 5   SibSp        418 non-null    int64   \n",
      " 6   Parch        418 non-null    int64   \n",
      " 7   Ticket       418 non-null    object  \n",
      " 8   Fare         417 non-null    float64 \n",
      " 9   Embarked     418 non-null    category\n",
      "dtypes: category(3), float64(2), int64(3), object(2)\n",
      "memory usage: 24.6+ KB\n",
      "None\n"
     ]
    }
   ],
   "source": [
    "print(df.info())"
   ]
  },
  {
   "cell_type": "code",
   "execution_count": 113,
   "id": "c64fb664-2935-49b7-abf2-0589e3ed1961",
   "metadata": {},
   "outputs": [
    {
     "name": "stdout",
     "output_type": "stream",
     "text": [
      "\t AVERAGE FARE BY GENDER\n",
      "Sex\n",
      "female    49.747699\n",
      "male      27.527877\n",
      "Name: Fare, dtype: float64\n"
     ]
    }
   ],
   "source": [
    "print(\"\\t AVERAGE FARE BY GENDER\")\n",
    "print(df.groupby('Sex',observed=False)['Fare'].mean())"
   ]
  },
  {
   "cell_type": "code",
   "execution_count": 119,
   "id": "c9c12142-98d5-4484-a81e-be7217ee43c1",
   "metadata": {},
   "outputs": [
    {
     "name": "stdout",
     "output_type": "stream",
     "text": [
      "\t AVERAGE FAIR BY CLASS\n",
      "Pclass\n",
      "1    94.280297\n",
      "2    22.202104\n",
      "3    12.459678\n",
      "Name: Fare, dtype: float64\n"
     ]
    }
   ],
   "source": [
    "print(\"\\t AVERAGE FAIR BY CLASS\")\n",
    "print(df.groupby('Pclass',observed=False)['Fare'].mean())"
   ]
  },
  {
   "cell_type": "code",
   "execution_count": 127,
   "id": "6820c882-5f91-48fe-8cab-6346e2a18247",
   "metadata": {},
   "outputs": [
    {
     "name": "stdout",
     "output_type": "stream",
     "text": [
      "\t AVERAGE AGE BY CLASS\n",
      "Pclass\n",
      "1    40.918367\n",
      "2    28.777500\n",
      "3    24.027945\n",
      "Name: Age, dtype: float64\n"
     ]
    }
   ],
   "source": [
    "print(\"\\t AVERAGE AGE BY CLASS\")\n",
    "print(df.groupby('Pclass',observed=False)['Age'].mean())"
   ]
  },
  {
   "cell_type": "code",
   "execution_count": 131,
   "id": "bc4b5c8f-bb31-4996-ae2d-c5bd98a59529",
   "metadata": {},
   "outputs": [
    {
     "name": "stdout",
     "output_type": "stream",
     "text": [
      "\t AVERAGE AGE BY GENDER\n",
      "Sex\n",
      "female    30.272362\n",
      "male      30.272732\n",
      "Name: Age, dtype: float64\n"
     ]
    }
   ],
   "source": [
    "print(\"\\t AVERAGE AGE BY GENDER\")\n",
    "print(df.groupby('Sex',observed=False)['Age'].mean())"
   ]
  },
  {
   "cell_type": "code",
   "execution_count": 137,
   "id": "568ec203-5d31-431b-88fe-0a00171b70a3",
   "metadata": {},
   "outputs": [
    {
     "name": "stdout",
     "output_type": "stream",
     "text": [
      "\t FAIR RANGE BY CLASS\n",
      "           min       max       mean   median\n",
      "Pclass                                      \n",
      "1       0.0000  512.3292  94.280297  60.0000\n",
      "2       9.6875   73.5000  22.202104  15.7500\n",
      "3       3.1708   69.5500  12.459678   7.8958\n"
     ]
    }
   ],
   "source": [
    "print(\"\\t FAIR RANGE BY CLASS\")\n",
    "print(df.groupby('Pclass',observed=False)['Fare'].agg(['min','max','mean','median']))"
   ]
  },
  {
   "cell_type": "code",
   "execution_count": 141,
   "id": "3594c6f3-69f8-4d04-8ea7-5dff55a31e8c",
   "metadata": {},
   "outputs": [
    {
     "data": {
      "text/plain": [
       "Embarked\n",
       "S    270\n",
       "C    102\n",
       "Q     46\n",
       "Name: count, dtype: int64"
      ]
     },
     "execution_count": 141,
     "metadata": {},
     "output_type": "execute_result"
    }
   ],
   "source": [
    "df['Embarked'].value_counts()"
   ]
  },
  {
   "cell_type": "code",
   "execution_count": 147,
   "id": "25e0d51c-e3a9-4679-a19a-9f6866991d6c",
   "metadata": {},
   "outputs": [
    {
     "data": {
      "image/png": "[encoded data removed]",
      "text/plain": [
       "<Figure size 640x480 with 1 Axes>"
      ]
     },
     "metadata": {},
     "output_type": "display_data"
    }
   ],
   "source": [
    "#Visualization\n",
    "sns.barplot(x='Sex',y='Fare',data=df)\n",
    "plt.title('AVERAGE FAIR BY GENDER')\n",
    "plt.show()"
   ]
  },
  {
   "cell_type": "code",
   "execution_count": 153,
   "id": "f01addbd-f1ae-4fac-ac35-e29e6565ccc6",
   "metadata": {},
   "outputs": [
    {
     "data": {
      "image/png": "[encoded data removed]",
      "text/plain": [
       "<Figure size 640x480 with 1 Axes>"
      ]
     },
     "metadata": {},
     "output_type": "display_data"
    }
   ],
   "source": [
    "sns.histplot(df['Age'] , bins = 30 , kde=True)\n",
    "plt.title('FARE DISTRIBUTION')\n",
    "plt.show()"
   ]
  },
  {
   "cell_type": "code",
   "execution_count": 157,
   "id": "6f99969b-9c2a-47f9-9b3c-812e769fc252",
   "metadata": {},
   "outputs": [
    {
     "data": {
      "image/png": "[encoded data removed]",
      "text/plain": [
       "<Figure size 640x480 with 1 Axes>"
      ]
     },
     "metadata": {},
     "output_type": "display_data"
    }
   ],
   "source": [
    "sns.boxplot(x=df['Age'])\n",
    "plt.title('AGE OUTLIERS')\n",
    "plt.show()\n"
   ]
  },
  {
   "cell_type": "code",
   "execution_count": 159,
   "id": "770d5fd9-26fa-472f-81fc-c6a7fe15fd2b",
   "metadata": {},
   "outputs": [
    {
     "data": {
      "image/png": "[encoded data removed]",
      "text/plain": [
       "<Figure size 640x480 with 2 Axes>"
      ]
     },
     "metadata": {},
     "output_type": "display_data"
    }
   ],
   "source": [
    "sns.heatmap(df.corr(numeric_only=True), annot=True, cmap='coolwarm')\n",
    "plt.title('FEATURE CORRELATION HEATMAP')\n",
    "plt.show()\n"
   ]
  }
 ],
 "metadata": {
  "kernelspec": {
   "display_name": "Python 3 (ipykernel)",
   "language": "python",
   "name": "python3"
  },
  "language_info": {
   "codemirror_mode": {
    "name": "ipython",
    "version": 3
   },
   "file_extension": ".py",
   "mimetype": "text/x-python",
   "name": "python",
   "nbconvert_exporter": "python",
   "pygments_lexer": "ipython3",
   "version": "3.12.7"
  }
 },
 "nbformat": 4,
 "nbformat_minor": 5
}
